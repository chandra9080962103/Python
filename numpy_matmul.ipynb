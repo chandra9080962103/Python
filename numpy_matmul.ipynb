{
 "cells": [
  {
   "cell_type": "code",
   "execution_count": 3,
   "id": "db69aaca-22e4-4cab-a76a-2613bf88ce35",
   "metadata": {},
   "outputs": [],
   "source": [
    "import numpy as np\n",
    "X = [[1,2,3],[4,5,6],[7,8,9]]\n",
    "Y = [[1,2,3],[4,5,6],[7,8,9]]"
   ]
  },
  {
   "cell_type": "code",
   "execution_count": 12,
   "id": "3ed42fbd-18f7-4564-b349-8419f1f6f2d1",
   "metadata": {},
   "outputs": [
    {
     "name": "stdout",
     "output_type": "stream",
     "text": [
      "[[1 2 3]\n",
      " [4 5 6]\n",
      " [7 8 9]]\n",
      "[[1 2 3]\n",
      " [4 5 6]\n",
      " [7 8 9]]\n",
      "[[ 30  36  42]\n",
      " [ 66  81  96]\n",
      " [102 126 150]]\n"
     ]
    }
   ],
   "source": [
    "X1 = np.mat(X)\n",
    "Y1 = np.mat(Y)\n",
    "print(X1)\n",
    "print(Y1)\n",
    "Z = np.matmul(X1,Y1)\n",
    "print(Z)"
   ]
  },
  {
   "cell_type": "code",
   "execution_count": 11,
   "id": "eef43ab9-5f87-48b5-bcd0-aefa2cb7219f",
   "metadata": {},
   "outputs": [
    {
     "name": "stdout",
     "output_type": "stream",
     "text": [
      "[[ 30  36  42]\n",
      " [ 66  81  96]\n",
      " [102 126 150]]\n"
     ]
    }
   ],
   "source": [
    "print(X1*Y1)"
   ]
  },
  {
   "cell_type": "code",
   "execution_count": null,
   "id": "973ff6e6-0169-4881-9eaf-1b0203c01aab",
   "metadata": {},
   "outputs": [],
   "source": []
  }
 ],
 "metadata": {
  "kernelspec": {
   "display_name": "Python 3 (ipykernel)",
   "language": "python",
   "name": "python3"
  },
  "language_info": {
   "codemirror_mode": {
    "name": "ipython",
    "version": 3
   },
   "file_extension": ".py",
   "mimetype": "text/x-python",
   "name": "python",
   "nbconvert_exporter": "python",
   "pygments_lexer": "ipython3",
   "version": "3.11.4"
  }
 },
 "nbformat": 4,
 "nbformat_minor": 5
}
