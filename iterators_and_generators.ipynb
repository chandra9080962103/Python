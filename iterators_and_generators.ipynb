{
 "cells": [
  {
   "cell_type": "code",
   "execution_count": 4,
   "id": "946f3b04-3a75-492b-9045-cea849f7032a",
   "metadata": {},
   "outputs": [
    {
     "name": "stdout",
     "output_type": "stream",
     "text": [
      "<list_iterator object at 0x000001ED6DFE1BA0>\n"
     ]
    },
    {
     "name": "stdin",
     "output_type": "stream",
     "text": [
      " 1\n",
      " 2\n",
      " banan\n",
      " banana\n"
     ]
    },
    {
     "name": "stdout",
     "output_type": "stream",
     "text": [
      "['1', '2', 'banan']\n"
     ]
    }
   ],
   "source": [
    "fruits = [\"apple\",\"orange\",\"banana\"]\n",
    "basket = iter(fruits) #iter function iterates through the given iterable ohject one at a time.\n",
    "print(basket)\n",
    "a = iter(input, \"banana\")#it can also be used to take inputs untill a specified input is given\n",
    "print(list(a))"
   ]
  },
  {
   "cell_type": "code",
   "execution_count": 3,
   "id": "26d74125-2537-4c89-8bc8-6a5628a780ad",
   "metadata": {},
   "outputs": [
    {
     "name": "stdout",
     "output_type": "stream",
     "text": [
      "apple\n"
     ]
    }
   ],
   "source": [
    "print(next(basket))"
   ]
  },
  {
   "cell_type": "code",
   "execution_count": 4,
   "id": "c7213e9b-010f-474d-a091-11a4ec3335b9",
   "metadata": {},
   "outputs": [
    {
     "name": "stdout",
     "output_type": "stream",
     "text": [
      "orange\n"
     ]
    }
   ],
   "source": [
    "print(next(basket))"
   ]
  },
  {
   "cell_type": "code",
   "execution_count": 6,
   "id": "fa24c9d7-d394-40b4-9f0d-1a4a0c9bfe33",
   "metadata": {},
   "outputs": [
    {
     "name": "stdout",
     "output_type": "stream",
     "text": [
      "<generator object square at 0x000001A0078C0D40>\n"
     ]
    }
   ],
   "source": [
    "def square(limit):\n",
    "    x = 0\n",
    "    while x < limit:\n",
    "        yield x*x\n",
    "        yield x*x*x\n",
    "        x += 1\n",
    "print(square(5))"
   ]
  },
  {
   "cell_type": "code",
   "execution_count": 13,
   "id": "693baba6-a952-4ae2-ab2a-79adc0da991c",
   "metadata": {},
   "outputs": [],
   "source": [
    "a = square(5)"
   ]
  },
  {
   "cell_type": "code",
   "execution_count": 14,
   "id": "a070ced6-5bd6-4a4f-8104-4fc5d56282f2",
   "metadata": {},
   "outputs": [
    {
     "name": "stdout",
     "output_type": "stream",
     "text": [
      "0 0\n"
     ]
    }
   ],
   "source": [
    "print(next(a), next(a))"
   ]
  },
  {
   "cell_type": "code",
   "execution_count": 15,
   "id": "2b4c0e96-22d1-45cf-8b1f-01c46d69fa2c",
   "metadata": {},
   "outputs": [
    {
     "name": "stdout",
     "output_type": "stream",
     "text": [
      "1 1\n"
     ]
    }
   ],
   "source": [
    "print(next(a),next(a))"
   ]
  },
  {
   "cell_type": "code",
   "execution_count": 16,
   "id": "b5170976-95fe-4093-a3fa-8c1d58499e99",
   "metadata": {},
   "outputs": [
    {
     "name": "stdout",
     "output_type": "stream",
     "text": [
      "4 8\n"
     ]
    }
   ],
   "source": [
    "print(next(a),next(a))"
   ]
  },
  {
   "cell_type": "code",
   "execution_count": 17,
   "id": "5aa6815d-2123-405e-a4f5-0479384a3369",
   "metadata": {},
   "outputs": [
    {
     "name": "stdout",
     "output_type": "stream",
     "text": [
      "9 27\n"
     ]
    }
   ],
   "source": [
    "print(next(a),next(a))"
   ]
  },
  {
   "cell_type": "code",
   "execution_count": 18,
   "id": "c43f3c32-2e9a-4c61-8fd8-30b427beb1e3",
   "metadata": {},
   "outputs": [
    {
     "name": "stdout",
     "output_type": "stream",
     "text": [
      "16 64\n"
     ]
    }
   ],
   "source": [
    "print(next(a),next(a))"
   ]
  },
  {
   "cell_type": "code",
   "execution_count": null,
   "id": "a35fb9e4-ee1a-4f2d-a268-8cb7543c5b7f",
   "metadata": {},
   "outputs": [],
   "source": []
  }
 ],
 "metadata": {
  "kernelspec": {
   "display_name": "Python 3 (ipykernel)",
   "language": "python",
   "name": "python3"
  },
  "language_info": {
   "codemirror_mode": {
    "name": "ipython",
    "version": 3
   },
   "file_extension": ".py",
   "mimetype": "text/x-python",
   "name": "python",
   "nbconvert_exporter": "python",
   "pygments_lexer": "ipython3",
   "version": "3.11.4"
  }
 },
 "nbformat": 4,
 "nbformat_minor": 5
}
