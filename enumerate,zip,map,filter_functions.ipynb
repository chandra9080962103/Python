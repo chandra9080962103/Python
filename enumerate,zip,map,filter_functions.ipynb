{
 "cells": [
  {
   "cell_type": "code",
   "execution_count": 2,
   "id": "54d581e9-496b-437f-a3d1-c78bfd45265c",
   "metadata": {},
   "outputs": [
    {
     "name": "stdout",
     "output_type": "stream",
     "text": [
      "(0, 'apple')\n",
      "(1, 'banana')\n",
      "(2, 'kiwi')\n"
     ]
    }
   ],
   "source": [
    "fruits = [\"apple\",\"banana\",\"kiwi\"]\n",
    "for fruit in enumerate(fruits):\n",
    "    print(fruit)\n",
    "#used to couple index value and the entity."
   ]
  },
  {
   "cell_type": "code",
   "execution_count": 3,
   "id": "71073dc1-2374-48ab-b1e0-6906d06ea084",
   "metadata": {},
   "outputs": [
    {
     "name": "stdout",
     "output_type": "stream",
     "text": [
      "<zip object at 0x0000027BFB3C7400>\n"
     ]
    }
   ],
   "source": [
    "fruits = [\"apple\",\"banana\",\"kiwi\"]\n",
    "size = [5,6,4]\n",
    "#used to couple 2 different lists.\n",
    "print(zip(fruits,size))"
   ]
  },
  {
   "cell_type": "code",
   "execution_count": 4,
   "id": "1b8111df-21ad-4499-aa31-655d5509f636",
   "metadata": {},
   "outputs": [
    {
     "name": "stdout",
     "output_type": "stream",
     "text": [
      "[('apple', 5), ('banana', 6), ('kiwi', 4)]\n"
     ]
    }
   ],
   "source": [
    "print(list(zip(fruits,size)))"
   ]
  },
  {
   "cell_type": "code",
   "execution_count": 8,
   "id": "893fd398-1a34-41a3-a8f4-9c6d7793ff52",
   "metadata": {},
   "outputs": [
    {
     "name": "stdout",
     "output_type": "stream",
     "text": [
      "<map object at 0x0000027BFC4E14B0>\n",
      "[5, 7, 9]\n"
     ]
    }
   ],
   "source": [
    "#map(fn_name, parameters) is the syntax of the map function and it is used to carry out a certain function in iteration for every element in a dtype.\n",
    "a = [1,2,3]\n",
    "b = [4,5,6]\n",
    "def sum(x,y):\n",
    "    return x + y\n",
    "c = map(sum, a,b)\n",
    "print(c)\n",
    "print(list(c))"
   ]
  },
  {
   "cell_type": "code",
   "execution_count": 10,
   "id": "0abb18f4-d73e-4357-803e-92355dd10ed4",
   "metadata": {},
   "outputs": [
    {
     "name": "stdout",
     "output_type": "stream",
     "text": [
      "<map object at 0x0000027BFB88D0F0>\n",
      "[3.605551275463989, 3.7416573867739413]\n"
     ]
    }
   ],
   "source": [
    "#filter(fn_name, parameters) is the syntax of filter fn and it is used to filter out certain values from the input to avoid domain errors in fn.\n",
    "import math\n",
    "a = [13,-13,14]\n",
    "def sqrt(x):\n",
    "    return math.sqrt(x)\n",
    "def positive(x):\n",
    "    if x >= 0:\n",
    "        return x\n",
    "c = map(sqrt,filter(positive,a))\n",
    "print(c)\n",
    "print(list(c))"
   ]
  },
  {
   "cell_type": "code",
   "execution_count": 11,
   "id": "ac0b95ba-fd91-4854-b2a5-6e387da9e9d6",
   "metadata": {},
   "outputs": [],
   "source": [
    "# enumerate with filtering and map\n",
    "def indices_of_big_words(words) -> list:\n",
    "    '''Given a list of words, find the indices of the big words(length greater than 5).\n",
    "    '''\n",
    "\n",
    "    return list(map(\n",
    "      lambda x: x[0], # taking only the indices\n",
    "      filter(lambda y: len(y[1])>5, enumerate(words)) # filtering with size\n",
    "    ))\n",
    "\n",
    "# zip with mapping and aggregation\n",
    "def decode_rle(chars:str, repeats:list)->str:\n",
    "    '''\n",
    "    Create a string with i-th char from chars repeated i-th value of repeats number of times. \n",
    "\n",
    "    Note rle refers to Run-length encoding\n",
    "    '''\n",
    "\n",
    "    return \"\".join(map(lambda x: x[0]*x[1], zip(chars, repeats)))"
   ]
  },
  {
   "cell_type": "code",
   "execution_count": null,
   "id": "fa8545c9-7798-4f5e-9126-69b764b1bcb9",
   "metadata": {},
   "outputs": [],
   "source": []
  }
 ],
 "metadata": {
  "kernelspec": {
   "display_name": "Python 3 (ipykernel)",
   "language": "python",
   "name": "python3"
  },
  "language_info": {
   "codemirror_mode": {
    "name": "ipython",
    "version": 3
   },
   "file_extension": ".py",
   "mimetype": "text/x-python",
   "name": "python",
   "nbconvert_exporter": "python",
   "pygments_lexer": "ipython3",
   "version": "3.11.4"
  }
 },
 "nbformat": 4,
 "nbformat_minor": 5
}
